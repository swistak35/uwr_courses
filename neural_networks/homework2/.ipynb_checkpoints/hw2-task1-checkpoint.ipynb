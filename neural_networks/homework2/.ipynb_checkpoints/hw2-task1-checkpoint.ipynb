{
 "metadata": {
  "name": "",
  "signature": "sha256:8310688f52d748a8ca8c9787a3411cd1001189975e2c2d90528de097939661bc"
 },
 "nbformat": 3,
 "nbformat_minor": 0,
 "worksheets": [
  {
   "cells": [
    {
     "cell_type": "code",
     "collapsed": false,
     "input": [
      "import pylab as pl\n",
      "\n",
      "from sklearn.datasets import fetch_mldata\n",
      "\n",
      "mnist = fetch_mldata('MNIST original')\n",
      "\n",
      "data_samples = []\n",
      "for index, target in enumerate(mnist['target']):\n",
      "    if len(data_samples) == int(target):\n",
      "        data_samples.append(mnist['data'][index])\n",
      "\n",
      "for index, data in enumerate(data_samples):\n",
      "    pl.subplot(2, 5, index + 1)\n",
      "    pl.axis('off')\n",
      "    pl.title(\"Obrazek %i\" % index)\n",
      "    pl.imshow(pl.reshape(data, (28, 28)), cmap = pl.cm.gray_r, interpolation = 'nearest')\n",
      "\n",
      "pl.show()"
     ],
     "language": "python",
     "metadata": {},
     "outputs": [],
     "prompt_number": 52
    },
    {
     "cell_type": "code",
     "collapsed": false,
     "input": [],
     "language": "python",
     "metadata": {},
     "outputs": []
    }
   ],
   "metadata": {}
  }
 ]
}