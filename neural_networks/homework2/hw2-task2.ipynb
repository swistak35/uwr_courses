{
 "metadata": {
  "name": "",
  "signature": "sha256:c3237d3ed741c5861d9c90cbb51bda8d073989832e3a3da20e51309065b4a956"
 },
 "nbformat": 3,
 "nbformat_minor": 0,
 "worksheets": [
  {
   "cells": [
    {
     "cell_type": "code",
     "collapsed": false,
     "input": [
      "import pylab as pl\n",
      "import scipy.stats as st\n",
      "\n",
      "from sklearn.datasets import fetch_mldata\n",
      "\n",
      "MINIBATCH = 10\n",
      "\n",
      "class Knn:\n",
      "    def __init__(self, data, targets):\n",
      "        self.data  = pl.reshape(data, (1, data.shape[0], data.shape[1]))\n",
      "        print self.data.shape\n",
      "        self.targets = targets\n",
      "\n",
      "    def choose_class(self, testing_data_points, k = 5):\n",
      "        testing_data = pl.reshape(testing_data_points, (testing_data_points.shape[0], 1, testing_data_points.shape[1]))\n",
      "        print testing_data.shape\n",
      "        diff = self.data - testing_data\n",
      "        dists = pl.sum(pl.square(diff), 2)\n",
      "        results = []\n",
      "        for probe in dists:\n",
      "            results.append(st.mode([self.targets[i] for i in probe.argsort()[:k]])[0][0])\n",
      "        return results\n",
      "#         data_distances = [ self.euclidean_distance(point, known_point) for known_point in self.points ]\n",
      "#         data           = np.array(zip(self.targets, data_distances))\n",
      "#         indices        = np.argsort( data, 0 )[:, 1]\n",
      "#         sorted_data    = data[indices][0:k]\n",
      "#         most_popular   = st.mode(sorted_data)[0][0][0]\n",
      "#         return most_popular\n",
      "\n",
      "#     def euclidean_distance(self, point1, point2):\n",
      "        # return np.sqrt( np.square(point1[0] - point2[0]) + np.square(point1[1] - point2[1]) + np.square(point1[2] - point2[2]) + np.square(point1[3] - point2[3]))\n",
      "#         return np.sqrt(np.sum(np.square( point1 - point2 )))\n",
      "\n",
      "mnist = fetch_mldata('MNIST original')\n",
      "\n",
      "real_data = mnist['data'][:60000]\n",
      "real_target = mnist['target'][:60000]\n",
      "testing_data = mnist['data'][60000:]\n",
      "\n",
      "\n",
      "knn = Knn(real_data, real_target)\n",
      "dists = knn.choose_class(testing_data)\n",
      "sliced_testing_data = testing_data.reshape(-1, 10)\n",
      "for testing_slice in sliced_testing_data:\n",
      "    results = knn.choose_class(testi)\n",
      "# print dists.shape\n",
      "# print dists\n",
      "# print [real_target[i] for i in dists[0].argsort()[:5]]\n",
      "\n",
      "\n",
      "\n",
      "\n",
      "# data_samples = []\n",
      "# for index, target in enumerate(mnist['target']):\n",
      "#     if len(data_samples) == int(target):\n",
      "#         data_samples.append(mnist['data'][index])\n",
      "\n",
      "# for index, data in enumerate(data_samples):\n",
      "#     pl.subplot(2, 5, index + 1)\n",
      "#     pl.axis('off')\n",
      "#     pl.title(\"Obrazek %i\" % index)\n",
      "#     pl.imshow(pl.reshape(data, (28, 28)), cmap = pl.cm.gray_r, interpolation = 'nearest')\n",
      "\n",
      "# pl.show()"
     ],
     "language": "python",
     "metadata": {},
     "outputs": [
      {
       "output_type": "stream",
       "stream": "stdout",
       "text": [
        "(1, 60000, 784)\n",
        "(5, 1, 784)\n",
        "[0.0, 6.0, 1.0, 0.0, 1.0]"
       ]
      },
      {
       "output_type": "stream",
       "stream": "stdout",
       "text": [
        "\n"
       ]
      }
     ],
     "prompt_number": 40
    },
    {
     "cell_type": "code",
     "collapsed": false,
     "input": [],
     "language": "python",
     "metadata": {},
     "outputs": []
    }
   ],
   "metadata": {}
  }
 ]
}